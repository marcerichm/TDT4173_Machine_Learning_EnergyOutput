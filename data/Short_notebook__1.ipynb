{
 "cells": [
  {
   "cell_type": "markdown",
   "id": "c87c009e",
   "metadata": {},
   "source": [
    "# Group 89\n",
    "## Quinten van de Korput (student id: 105473), Anna Orlandi (student id: 105678)\n",
    " "
   ]
  },
  {
   "cell_type": "code",
   "execution_count": 16,
   "id": "ad265c31",
   "metadata": {},
   "outputs": [],
   "source": [
    "import pandas as pd\n",
    "import numpy as np\n",
    "import seaborn as sns\n",
    "import matplotlib.pyplot as plt\n",
    "import xgboost as xgb\n",
    "from scipy import stats\n",
    "from sklearn.model_selection import GridSearchCV"
   ]
  },
  {
   "cell_type": "markdown",
   "id": "166ebae5",
   "metadata": {},
   "source": [
    "### Model preprocessing"
   ]
  },
  {
   "cell_type": "code",
   "execution_count": 2,
   "id": "12f2a054",
   "metadata": {},
   "outputs": [],
   "source": [
    "train_a = pd.read_parquet('data/A/train_targets.parquet')\n",
    "train_b = pd.read_parquet('data/B/train_targets.parquet')\n",
    "train_c = pd.read_parquet('data/C/train_targets.parquet')\n",
    "X_train_estimated_a = pd.read_parquet('data/A/X_train_estimated.parquet')\n",
    "X_train_estimated_b = pd.read_parquet('data/B/X_train_estimated.parquet')\n",
    "X_train_estimated_c = pd.read_parquet('data/C/X_train_estimated.parquet')\n",
    "X_train_observed_a = pd.read_parquet('data/A/X_train_observed.parquet')\n",
    "X_train_observed_b = pd.read_parquet('data/B/X_train_observed.parquet')\n",
    "X_train_observed_c = pd.read_parquet('data/C/X_train_observed.parquet')\n",
    "X_test_estimated_a = pd.read_parquet('data/A/X_test_estimated.parquet')\n",
    "X_test_estimated_b = pd.read_parquet('data/B/X_test_estimated.parquet')\n",
    "X_test_estimated_c = pd.read_parquet('data/C/X_test_estimated.parquet')"
   ]
  },
  {
   "cell_type": "code",
   "execution_count": 3,
   "id": "db94e7d8",
   "metadata": {},
   "outputs": [],
   "source": [
    "train_b.loc[(train_b['time'] >= \"2019-05-31 07:00:00\") & (train_b['time'] <= \"2019-06-03 12:00:00\"), 'pv_measurement'] = np.NaN\n",
    "train_b.loc[(\"2019-03-24 00:00:00\" <= train_b[\"time\"]) & (train_b[\"time\"] <= \"2019-03-27 00:00:00\"), 'pv_measurement'] = np.NaN\n",
    "train_b.loc[(\"2019-10-28 13:00:00\" <= train_b[\"time\"]) & (train_b[\"time\"] <= \"2019-10-30 22:00:00\"), 'pv_measurement'] = np.NaN\n",
    "train_b.loc[(\"2020-03-26 13:00:00\" <= train_b[\"time\"]) & (train_b[\"time\"] <= \"2020-03-27 21:00:00\"), 'pv_measurement'] = np.NaN\n",
    "train_b.loc[(train_b['time'] >= \"2020-04-02 01:00:00\") & (train_b['time'] <= \"2020-04-16 06:00:00\"), 'pv_measurement'] = np.NaN\n",
    "train_b.loc[(train_b['time'] >= \"2020-07-12 20:00:00\") & (train_b['time'] <= \"2020-08-25 21:00:00\"), 'pv_measurement'] = np.NaN\n",
    "train_b.loc[(\"2020-09-24 12:00:00\" <= train_b[\"time\"]) & (train_b[\"time\"] <= \"2020-09-25 21:00:00\"), 'pv_measurement'] = np.NaN\n",
    "train_b.loc[(train_b['time'] >= \"2021-02-17 23:00:00\") & (train_b['time'] <= \"2021-04-19 11:00:00\"), 'pv_measurement'] = np.NaN\n",
    "train_b.loc[(\"2021-04-28 22:00:00\" <= train_b[\"time\"]) & (train_b[\"time\"] <= \"2021-05-01 21:00:00\"), 'pv_measurement'] = np.NaN\n",
    "train_b.loc[(\"2021-06-05 01:00:00\" <= train_b[\"time\"]) & (train_b[\"time\"] <= \"2021-06-07 07:00:00\"), 'pv_measurement'] = np.NaN\n",
    "train_b.loc[(\"2021-06-13 01:00:00\" <= train_b[\"time\"]) & (train_b[\"time\"] <= \"2021-06-14 09:00:00\"), 'pv_measurement'] = np.NaN\n",
    "train_b.loc[(\"2021-06-22 01:00:00\" <= train_b[\"time\"]) & (train_b[\"time\"] <= \"2021-06-24 08:00:00\"), 'pv_measurement'] = np.NaN\n",
    "train_b.loc[(\"2021-07-03 12:00:00\" <= train_b[\"time\"]) & (train_b[\"time\"] <= \"2021-07-06 05:00:00\"), 'pv_measurement'] = np.NaN\n",
    "train_b.loc[(\"2021-08-25 22:00:00\" <= train_b[\"time\"]) & (train_b[\"time\"] <= \"2021-09-03 21:00:00\"), 'pv_measurement'] = np.NaN\n",
    "train_b.loc[(\"2021-09-08 12:00:00\" <= train_b[\"time\"]) & (train_b[\"time\"] <= \"2021-09-14 13:00:00\"), 'pv_measurement'] = np.NaN\n",
    "train_b.loc[(\"2021-09-18 23:00:00\" <= train_b[\"time\"]) & (train_b[\"time\"] <= \"2021-09-27 08:00:00\"), 'pv_measurement'] = np.NaN\n",
    "train_b.loc[(train_b['time'] >= \"2022-03-19 13:00:00\") & (train_b['time'] <= \"2022-04-14 06:00:00\"), 'pv_measurement'] = np.NaN"
   ]
  },
  {
   "cell_type": "code",
   "execution_count": 4,
   "id": "0659f993",
   "metadata": {},
   "outputs": [],
   "source": [
    "X_train_observed_a[\"merge\"] = X_train_observed_a[\"date_forecast\"].dt.floor(\"60min\")\n",
    "X_train_observed_b[\"merge\"] = X_train_observed_b[\"date_forecast\"].dt.floor(\"60min\")\n",
    "X_train_observed_c[\"merge\"] = X_train_observed_c[\"date_forecast\"].dt.floor(\"60min\")\n",
    "X_train_estimated_a[\"merge\"] = X_train_estimated_a[\"date_forecast\"].dt.floor(\"60min\")\n",
    "X_train_estimated_b[\"merge\"] = X_train_estimated_b[\"date_forecast\"].dt.floor(\"60min\")\n",
    "X_train_estimated_c[\"merge\"] = X_train_estimated_c[\"date_forecast\"].dt.floor(\"60min\")\n",
    "train_a[\"merge\"] = train_a[\"time\"].dt.floor(\"60min\")\n",
    "train_b[\"merge\"] = train_b[\"time\"].dt.floor(\"60min\")\n",
    "train_c[\"merge\"] = train_c[\"time\"].dt.floor(\"60min\")"
   ]
  },
  {
   "cell_type": "code",
   "execution_count": 5,
   "id": "5fbc5560",
   "metadata": {},
   "outputs": [],
   "source": [
    "def merge_target_train(df_target, df_train_observed, df_train_estimated):\n",
    "    df_target[\"pv_measurement\"] = df_target[\"pv_measurement\"] / 4\n",
    "    df = pd.concat([df_train_observed, df_train_estimated], axis=0)\n",
    "    df = pd.merge(left=df_target, right=df, on=\"merge\")\n",
    "    df.drop([\"merge\"], axis=1, inplace=True)\n",
    "    # df = pd.merge(left=df_target, right=df, left_on=\"time\", right_on=\"date_forecast\")\n",
    "    return df"
   ]
  },
  {
   "cell_type": "code",
   "execution_count": 6,
   "id": "a6bcff5f",
   "metadata": {},
   "outputs": [],
   "source": [
    "Train_a = merge_target_train(train_a, X_train_observed_a, X_train_estimated_a)\n",
    "Train_b = merge_target_train(train_b, X_train_observed_b, X_train_estimated_b)\n",
    "Train_c = merge_target_train(train_c, X_train_observed_c, X_train_estimated_c)"
   ]
  },
  {
   "cell_type": "code",
   "execution_count": 7,
   "id": "91fdf85f",
   "metadata": {},
   "outputs": [],
   "source": [
    "changes_list = Train_a.columns.drop([\"date_calc\", \"time\", \"date_forecast\", 'precip_type_5min:idx', 'snow_drift:idx', 'is_in_shadow:idx', \n",
    "                                                 'is_day:idx', 'dew_or_rime:idx', 'ceiling_height_agl:m', 'snow_density:kgm3', \n",
    "                                                 'elevation:m', 'cloud_base_agl:m'])\n",
    "Train_a = Train_a[~((np.abs(stats.zscore(Train_a[changes_list], axis=1))) < 3).all(axis=1)]\n",
    "Train_b = Train_b[~((np.abs(stats.zscore(Train_b[changes_list], axis=1))) < 3).all(axis=1)]\n",
    "Train_c = Train_c[~((np.abs(stats.zscore(Train_c[changes_list], axis=1))) < 3).all(axis=1)]"
   ]
  },
  {
   "cell_type": "code",
   "execution_count": 8,
   "id": "192a18cc",
   "metadata": {},
   "outputs": [],
   "source": [
    "def feature_engineering(df_in):\n",
    "    df = df_in.copy()\n",
    "    # Fill date calc with date forecast when null\n",
    "    df[\"date_calc\"].fillna(df[\"date_forecast\"], inplace=True)\n",
    "    \n",
    "    # Make time data\n",
    "    df[\"hour\"] = df[\"date_forecast\"].dt.hour\n",
    "    df[\"month\"] = df[\"date_forecast\"].dt.month\n",
    "    df[\"minutes\"] = df[\"date_forecast\"].dt.minute\n",
    "    df[\"day\"] = df[\"date_forecast\"].dt.day\n",
    "    df[\"dayofyear\"] = df[\"date_forecast\"].dt.dayofyear\n",
    "    df[\"hours_since_calc\"] = (df[\"date_forecast\"] - df[\"date_calc\"]).dt.total_seconds() / (60*60)\n",
    "\n",
    "    df[\"SumRad\"] = df[\"direct_rad:W\"] + df[\"diffuse_rad:W\"]\n",
    "    df[\"ClearSkyRatio\"] = df[\"SumRad\"]/(1+df[\"clear_sky_rad:W\"])\n",
    "    df[\"SunElevationRatio\"] = df[\"sun_elevation:d\"]/df[\"elevation:m\"]\n",
    "    df[\"TempDewPoint\"] = df[\"t_1000hPa:K\"] - df[\"dew_point_2m:K\"]\n",
    "    # df[\"SnowFall\"] = df[\"fresh_snow_1h:cm\"] + df[\"fresh_snow_3h:cm\"] + df[\"fresh_snow_6h:cm\"] + df[\"fresh_snow_12h:cm\"]\n",
    "    \n",
    "    # df[\"Date\"] = df[\"date_forecast\"].dt.date\n",
    "    # df[\"SunAboveHorizon\"] = df[\"sun_elevation:d\"] > 0\n",
    "    # Selection = df[[\"Date\", \"location\", \"SunAboveHorizon\"]].groupby([\"Date\", \"location\"]).sum()\n",
    "    # df.drop(\"SunAboveHorizon\", inplace=True, axis=1)\n",
    "    # df = pd.merge(left=df, right=Selection, on=[\"Date\", \"location\"])\n",
    "    \n",
    "    # Drop time data\n",
    "    df.drop([\"date_forecast\", \"date_calc\"], axis=1, inplace=True)\n",
    "    \n",
    "    # One hot encoding categorical data\n",
    "    df = pd.get_dummies(df)\n",
    "    return df"
   ]
  },
  {
   "cell_type": "code",
   "execution_count": 9,
   "id": "ce956446",
   "metadata": {},
   "outputs": [],
   "source": [
    "Train_a[\"location\"] = \"A\"\n",
    "Train_b[\"location\"] = \"B\"\n",
    "Train_c[\"location\"] = \"C\"\n",
    "Train_b = Train_b.loc[~Train_b[\"pv_measurement\"].isnull()]\n",
    "Train_c = Train_c.loc[~Train_c[\"pv_measurement\"].isnull()]"
   ]
  },
  {
   "cell_type": "code",
   "execution_count": 10,
   "id": "a1f18529",
   "metadata": {},
   "outputs": [],
   "source": [
    "def feature_selection(df_in):\n",
    "    df = df_in.copy()\n",
    "\n",
    "    df.drop([\"prob_rime:p\", \"dew_or_rime:idx\", \"fresh_snow_6h:cm\"], axis=1, inplace=True)\n",
    "    return df"
   ]
  },
  {
   "cell_type": "code",
   "execution_count": 11,
   "id": "66a27add",
   "metadata": {},
   "outputs": [],
   "source": [
    "A = feature_selection(feature_engineering(Train_a.sort_values(by=\"time\")))\n",
    "B = feature_selection(feature_engineering(Train_b.sort_values(by=\"time\")))\n",
    "C = feature_selection(feature_engineering(Train_c.sort_values(by=\"time\")))"
   ]
  },
  {
   "cell_type": "code",
   "execution_count": 12,
   "id": "2e05fc8a",
   "metadata": {},
   "outputs": [],
   "source": [
    "A.loc[A[\"is_day:idx\"] == 0, \"pv_measurement\"] = 0\n",
    "B.loc[B[\"is_day:idx\"] == 0, \"pv_measurement\"] = 0\n",
    "C.loc[C[\"is_day:idx\"] == 0, \"pv_measurement\"] = 0"
   ]
  },
  {
   "cell_type": "markdown",
   "id": "67f5cf3c",
   "metadata": {},
   "source": [
    "### Model A"
   ]
  },
  {
   "cell_type": "code",
   "execution_count": 59,
   "id": "1a742bbe",
   "metadata": {},
   "outputs": [
    {
     "data": {
      "text/plain": [
       "((129665, 55), (5855, 55))"
      ]
     },
     "execution_count": 59,
     "metadata": {},
     "output_type": "execute_result"
    }
   ],
   "source": [
    "train_selection_a = A[\"time\"] < \"2023-03-01\"\n",
    "Train_A.shape, Test_A.shape"
   ]
  },
  {
   "cell_type": "code",
   "execution_count": 60,
   "id": "b577ff29",
   "metadata": {},
   "outputs": [],
   "source": [
    "X_a = A.drop([\"time\", \"pv_measurement\"], axis=1)\n",
    "y_a = A[\"pv_measurement\"]"
   ]
  },
  {
   "cell_type": "code",
   "execution_count": 61,
   "id": "d6216861",
   "metadata": {},
   "outputs": [],
   "source": [
    "# Model_data_features.reset_index(inplace=True)\n",
    "train_selection_2 = A[\"time\"] < \"2023-01-01\"\n",
    "test_selection_2 = (A[\"time\"] > \"2023-01-01\") & (A[\"time\"] < \"2023-03-01\")\n",
    "train_selection_3 = A[\"time\"] < \"2022-11-01\"\n",
    "test_selection_3 = (A[\"time\"] > \"2022-11-01\") & (A[\"time\"] < \"2023-01-01\")\n",
    "Train_1_indices = A.reset_index().index[train_selection_a]\n",
    "Test_1_indices = A.reset_index().index[~train_selection_a]\n",
    "Train_2_indices = A.reset_index().index[train_selection_2]\n",
    "Test_2_indices = A.reset_index().index[test_selection_2]\n",
    "Train_3_indices = A.reset_index().index[train_selection_3]\n",
    "Test_3_indices = A.reset_index().index[test_selection_3]"
   ]
  },
  {
   "cell_type": "code",
   "execution_count": 62,
   "id": "7a891112",
   "metadata": {},
   "outputs": [],
   "source": [
    "param_grid = {\n",
    "    'n_estimators': [119],\n",
    "    'learning_rate': [0.06],\n",
    "    'max_depth': [8]\n",
    "}"
   ]
  },
  {
   "cell_type": "code",
   "execution_count": 63,
   "id": "ab770c94",
   "metadata": {},
   "outputs": [],
   "source": [
    "gridsearch = GridSearchCV(xgb.XGBRegressor(n_estimators=120, learning_rate=0.065, max_depth=11, min_child_weight=1, gamma=0.3, reg_alpha=0.01, reg_lambda=1,\n",
    "                       enable_categorical=True, eval_metric=\"mae\", random_state=0, colsample_bytree=0.8, subsample=0.8), \n",
    "                          param_grid, scoring=\"neg_mean_absolute_error\", \n",
    "                          verbose=2, n_jobs=-1, return_train_score=True, cv=[(Train_1_indices, Test_1_indices), (Train_2_indices, Test_2_indices), (Train_3_indices, Test_3_indices)])"
   ]
  },
  {
   "cell_type": "code",
   "execution_count": 64,
   "id": "a874a76f",
   "metadata": {},
   "outputs": [
    {
     "name": "stdout",
     "output_type": "stream",
     "text": [
      "Fitting 3 folds for each of 1 candidates, totalling 3 fits\n",
      "time: 6.389873266220093\n"
     ]
    }
   ],
   "source": [
    "import time\n",
    "start = time.time()\n",
    "gridsearch.fit(X_a, y_a)\n",
    "print(\"time:\", time.time() - start)"
   ]
  },
  {
   "cell_type": "code",
   "execution_count": 65,
   "id": "f66df225",
   "metadata": {},
   "outputs": [
    {
     "data": {
      "text/plain": [
       "{'learning_rate': 0.06, 'max_depth': 8, 'n_estimators': 119}"
      ]
     },
     "execution_count": 65,
     "metadata": {},
     "output_type": "execute_result"
    }
   ],
   "source": [
    "gridsearch.best_params_"
   ]
  },
  {
   "cell_type": "code",
   "execution_count": 66,
   "id": "f9210ec9",
   "metadata": {
    "scrolled": true
   },
   "outputs": [
    {
     "data": {
      "text/plain": [
       "{'mean_fit_time': array([3.95945986]),\n",
       " 'std_fit_time': array([0.09282453]),\n",
       " 'mean_score_time': array([0.02246936]),\n",
       " 'std_score_time': array([0.00043581]),\n",
       " 'param_learning_rate': masked_array(data=[0.06],\n",
       "              mask=[False],\n",
       "        fill_value='?',\n",
       "             dtype=object),\n",
       " 'param_max_depth': masked_array(data=[8],\n",
       "              mask=[False],\n",
       "        fill_value='?',\n",
       "             dtype=object),\n",
       " 'param_n_estimators': masked_array(data=[119],\n",
       "              mask=[False],\n",
       "        fill_value='?',\n",
       "             dtype=object),\n",
       " 'params': [{'learning_rate': 0.06, 'max_depth': 8, 'n_estimators': 119}],\n",
       " 'split0_test_score': array([-60.39180114]),\n",
       " 'split1_test_score': array([-13.49927781]),\n",
       " 'split2_test_score': array([-14.04506741]),\n",
       " 'mean_test_score': array([-29.31204879]),\n",
       " 'std_test_score': array([21.97783317]),\n",
       " 'rank_test_score': array([1], dtype=int32),\n",
       " 'split0_train_score': array([-30.72504791]),\n",
       " 'split1_train_score': array([-32.02861475]),\n",
       " 'split2_train_score': array([-32.97644695]),\n",
       " 'mean_train_score': array([-31.91003654]),\n",
       " 'std_train_score': array([0.92294637])}"
      ]
     },
     "execution_count": 66,
     "metadata": {},
     "output_type": "execute_result"
    }
   ],
   "source": [
    "gridsearch.cv_results_"
   ]
  },
  {
   "cell_type": "code",
   "execution_count": 67,
   "id": "1b4ae09b",
   "metadata": {},
   "outputs": [
    {
     "data": {
      "text/plain": [
       "-29.312048788489573"
      ]
     },
     "execution_count": 67,
     "metadata": {},
     "output_type": "execute_result"
    }
   ],
   "source": [
    "gridsearch.best_score_"
   ]
  },
  {
   "cell_type": "code",
   "execution_count": 68,
   "id": "22cab79b",
   "metadata": {},
   "outputs": [
    {
     "data": {
      "text/html": [
       "<style>#sk-container-id-6 {color: black;background-color: white;}#sk-container-id-6 pre{padding: 0;}#sk-container-id-6 div.sk-toggleable {background-color: white;}#sk-container-id-6 label.sk-toggleable__label {cursor: pointer;display: block;width: 100%;margin-bottom: 0;padding: 0.3em;box-sizing: border-box;text-align: center;}#sk-container-id-6 label.sk-toggleable__label-arrow:before {content: \"▸\";float: left;margin-right: 0.25em;color: #696969;}#sk-container-id-6 label.sk-toggleable__label-arrow:hover:before {color: black;}#sk-container-id-6 div.sk-estimator:hover label.sk-toggleable__label-arrow:before {color: black;}#sk-container-id-6 div.sk-toggleable__content {max-height: 0;max-width: 0;overflow: hidden;text-align: left;background-color: #f0f8ff;}#sk-container-id-6 div.sk-toggleable__content pre {margin: 0.2em;color: black;border-radius: 0.25em;background-color: #f0f8ff;}#sk-container-id-6 input.sk-toggleable__control:checked~div.sk-toggleable__content {max-height: 200px;max-width: 100%;overflow: auto;}#sk-container-id-6 input.sk-toggleable__control:checked~label.sk-toggleable__label-arrow:before {content: \"▾\";}#sk-container-id-6 div.sk-estimator input.sk-toggleable__control:checked~label.sk-toggleable__label {background-color: #d4ebff;}#sk-container-id-6 div.sk-label input.sk-toggleable__control:checked~label.sk-toggleable__label {background-color: #d4ebff;}#sk-container-id-6 input.sk-hidden--visually {border: 0;clip: rect(1px 1px 1px 1px);clip: rect(1px, 1px, 1px, 1px);height: 1px;margin: -1px;overflow: hidden;padding: 0;position: absolute;width: 1px;}#sk-container-id-6 div.sk-estimator {font-family: monospace;background-color: #f0f8ff;border: 1px dotted black;border-radius: 0.25em;box-sizing: border-box;margin-bottom: 0.5em;}#sk-container-id-6 div.sk-estimator:hover {background-color: #d4ebff;}#sk-container-id-6 div.sk-parallel-item::after {content: \"\";width: 100%;border-bottom: 1px solid gray;flex-grow: 1;}#sk-container-id-6 div.sk-label:hover label.sk-toggleable__label {background-color: #d4ebff;}#sk-container-id-6 div.sk-serial::before {content: \"\";position: absolute;border-left: 1px solid gray;box-sizing: border-box;top: 0;bottom: 0;left: 50%;z-index: 0;}#sk-container-id-6 div.sk-serial {display: flex;flex-direction: column;align-items: center;background-color: white;padding-right: 0.2em;padding-left: 0.2em;position: relative;}#sk-container-id-6 div.sk-item {position: relative;z-index: 1;}#sk-container-id-6 div.sk-parallel {display: flex;align-items: stretch;justify-content: center;background-color: white;position: relative;}#sk-container-id-6 div.sk-item::before, #sk-container-id-6 div.sk-parallel-item::before {content: \"\";position: absolute;border-left: 1px solid gray;box-sizing: border-box;top: 0;bottom: 0;left: 50%;z-index: -1;}#sk-container-id-6 div.sk-parallel-item {display: flex;flex-direction: column;z-index: 1;position: relative;background-color: white;}#sk-container-id-6 div.sk-parallel-item:first-child::after {align-self: flex-end;width: 50%;}#sk-container-id-6 div.sk-parallel-item:last-child::after {align-self: flex-start;width: 50%;}#sk-container-id-6 div.sk-parallel-item:only-child::after {width: 0;}#sk-container-id-6 div.sk-dashed-wrapped {border: 1px dashed gray;margin: 0 0.4em 0.5em 0.4em;box-sizing: border-box;padding-bottom: 0.4em;background-color: white;}#sk-container-id-6 div.sk-label label {font-family: monospace;font-weight: bold;display: inline-block;line-height: 1.2em;}#sk-container-id-6 div.sk-label-container {text-align: center;}#sk-container-id-6 div.sk-container {/* jupyter's `normalize.less` sets `[hidden] { display: none; }` but bootstrap.min.css set `[hidden] { display: none !important; }` so we also need the `!important` here to be able to override the default hidden behavior on the sphinx rendered scikit-learn.org. See: https://github.com/scikit-learn/scikit-learn/issues/21755 */display: inline-block !important;position: relative;}#sk-container-id-6 div.sk-text-repr-fallback {display: none;}</style><div id=\"sk-container-id-6\" class=\"sk-top-container\"><div class=\"sk-text-repr-fallback\"><pre>XGBRegressor(base_score=None, booster=None, callbacks=None,\n",
       "             colsample_bylevel=None, colsample_bynode=None,\n",
       "             colsample_bytree=0.8, device=None, early_stopping_rounds=None,\n",
       "             enable_categorical=True, eval_metric=&#x27;mae&#x27;, feature_types=None,\n",
       "             gamma=0.3, grow_policy=None, importance_type=None,\n",
       "             interaction_constraints=None, learning_rate=0.06, max_bin=None,\n",
       "             max_cat_threshold=None, max_cat_to_onehot=None,\n",
       "             max_delta_step=None, max_depth=8, max_leaves=None,\n",
       "             min_child_weight=1, missing=nan, monotone_constraints=None,\n",
       "             multi_strategy=None, n_estimators=119, n_jobs=None,\n",
       "             num_parallel_tree=None, random_state=0, ...)</pre><b>In a Jupyter environment, please rerun this cell to show the HTML representation or trust the notebook. <br />On GitHub, the HTML representation is unable to render, please try loading this page with nbviewer.org.</b></div><div class=\"sk-container\" hidden><div class=\"sk-item\"><div class=\"sk-estimator sk-toggleable\"><input class=\"sk-toggleable__control sk-hidden--visually\" id=\"sk-estimator-id-6\" type=\"checkbox\" checked><label for=\"sk-estimator-id-6\" class=\"sk-toggleable__label sk-toggleable__label-arrow\">XGBRegressor</label><div class=\"sk-toggleable__content\"><pre>XGBRegressor(base_score=None, booster=None, callbacks=None,\n",
       "             colsample_bylevel=None, colsample_bynode=None,\n",
       "             colsample_bytree=0.8, device=None, early_stopping_rounds=None,\n",
       "             enable_categorical=True, eval_metric=&#x27;mae&#x27;, feature_types=None,\n",
       "             gamma=0.3, grow_policy=None, importance_type=None,\n",
       "             interaction_constraints=None, learning_rate=0.06, max_bin=None,\n",
       "             max_cat_threshold=None, max_cat_to_onehot=None,\n",
       "             max_delta_step=None, max_depth=8, max_leaves=None,\n",
       "             min_child_weight=1, missing=nan, monotone_constraints=None,\n",
       "             multi_strategy=None, n_estimators=119, n_jobs=None,\n",
       "             num_parallel_tree=None, random_state=0, ...)</pre></div></div></div></div></div>"
      ],
      "text/plain": [
       "XGBRegressor(base_score=None, booster=None, callbacks=None,\n",
       "             colsample_bylevel=None, colsample_bynode=None,\n",
       "             colsample_bytree=0.8, device=None, early_stopping_rounds=None,\n",
       "             enable_categorical=True, eval_metric='mae', feature_types=None,\n",
       "             gamma=0.3, grow_policy=None, importance_type=None,\n",
       "             interaction_constraints=None, learning_rate=0.06, max_bin=None,\n",
       "             max_cat_threshold=None, max_cat_to_onehot=None,\n",
       "             max_delta_step=None, max_depth=8, max_leaves=None,\n",
       "             min_child_weight=1, missing=nan, monotone_constraints=None,\n",
       "             multi_strategy=None, n_estimators=119, n_jobs=None,\n",
       "             num_parallel_tree=None, random_state=0, ...)"
      ]
     },
     "execution_count": 68,
     "metadata": {},
     "output_type": "execute_result"
    }
   ],
   "source": [
    "reg_a = xgb.XGBRegressor(n_estimators=119, learning_rate=0.06, max_depth=8, min_child_weight=1, gamma=0.3, reg_alpha=0.01, reg_lambda=1,\n",
    "                       enable_categorical=True, eval_metric=\"mae\", random_state=0, colsample_bytree=0.8, subsample=0.8)\n",
    "reg_a.fit(X_a, y_a, verbose=True)"
   ]
  },
  {
   "cell_type": "markdown",
   "id": "56677abe",
   "metadata": {},
   "source": [
    "### Model B"
   ]
  },
  {
   "cell_type": "code",
   "execution_count": 69,
   "id": "5882d3b3",
   "metadata": {},
   "outputs": [
    {
     "data": {
      "text/plain": [
       "((106931, 55), (5415, 55))"
      ]
     },
     "execution_count": 69,
     "metadata": {},
     "output_type": "execute_result"
    }
   ],
   "source": [
    "train_selection_b = B[\"time\"] < \"2023-03-01\"\n",
    "Train_b.shape, Test_b.shape"
   ]
  },
  {
   "cell_type": "code",
   "execution_count": 70,
   "id": "4b1b0e20",
   "metadata": {},
   "outputs": [],
   "source": [
    "X_b = B.drop([\"time\", \"pv_measurement\"], axis=1)\n",
    "y_b = B[\"pv_measurement\"]"
   ]
  },
  {
   "cell_type": "code",
   "execution_count": 71,
   "id": "2faa16af",
   "metadata": {},
   "outputs": [],
   "source": [
    "# Model_data_features.reset_index(inplace=True)\n",
    "train_selection_2 = B[\"time\"] < \"2023-01-01\"\n",
    "test_selection_2 = (B[\"time\"] > \"2023-01-01\") & (B[\"time\"] < \"2023-03-01\")\n",
    "train_selection_3 = B[\"time\"] < \"2022-11-01\"\n",
    "test_selection_3 = (B[\"time\"] > \"2022-11-01\") & (B[\"time\"] < \"2023-01-01\")\n",
    "Train_1_indices = B.reset_index().index[train_selection_b]\n",
    "Test_1_indices = B.reset_index().index[~train_selection_b]\n",
    "Train_2_indices = B.reset_index().index[train_selection_2]\n",
    "Test_2_indices = B.reset_index().index[test_selection_2]\n",
    "Train_3_indices = B.reset_index().index[train_selection_3]\n",
    "Test_3_indices = B.reset_index().index[test_selection_3]"
   ]
  },
  {
   "cell_type": "code",
   "execution_count": 72,
   "id": "8a6ed347",
   "metadata": {},
   "outputs": [],
   "source": [
    "param_grid = {\n",
    "    'n_estimators': [114],\n",
    "    'learning_rate': [0.06],\n",
    "    'max_depth': [9]\n",
    "}"
   ]
  },
  {
   "cell_type": "code",
   "execution_count": 73,
   "id": "3007dc40",
   "metadata": {},
   "outputs": [],
   "source": [
    "gridsearch = GridSearchCV(xgb.XGBRegressor(n_estimators=120, learning_rate=0.065, max_depth=11, min_child_weight=1, gamma=0.3, reg_alpha=0.01, reg_lambda=1,\n",
    "                       enable_categorical=True, eval_metric=\"mae\", random_state=0, colsample_bytree=0.8, subsample=0.8), \n",
    "                          param_grid, scoring=\"neg_mean_absolute_error\", \n",
    "                          verbose=2, n_jobs=-1, return_train_score=True, cv=[(Train_1_indices, Test_1_indices), (Train_2_indices, Test_2_indices), (Train_3_indices, Test_3_indices)])"
   ]
  },
  {
   "cell_type": "code",
   "execution_count": 74,
   "id": "80a008fc",
   "metadata": {},
   "outputs": [
    {
     "name": "stdout",
     "output_type": "stream",
     "text": [
      "Fitting 3 folds for each of 1 candidates, totalling 3 fits\n",
      "time: 7.914872884750366\n"
     ]
    }
   ],
   "source": [
    "import time\n",
    "start = time.time()\n",
    "gridsearch.fit(X_b, y_b)\n",
    "print(\"time:\", time.time() - start)"
   ]
  },
  {
   "cell_type": "code",
   "execution_count": 75,
   "id": "add13dba",
   "metadata": {},
   "outputs": [
    {
     "data": {
      "text/plain": [
       "{'learning_rate': 0.06, 'max_depth': 9, 'n_estimators': 114}"
      ]
     },
     "execution_count": 75,
     "metadata": {},
     "output_type": "execute_result"
    }
   ],
   "source": [
    "gridsearch.best_params_"
   ]
  },
  {
   "cell_type": "code",
   "execution_count": 76,
   "id": "47b0677b",
   "metadata": {},
   "outputs": [
    {
     "data": {
      "text/plain": [
       "{'mean_fit_time': array([4.8152771]),\n",
       " 'std_fit_time': array([0.07442341]),\n",
       " 'mean_score_time': array([0.02446914]),\n",
       " 'std_score_time': array([0.00298373]),\n",
       " 'param_learning_rate': masked_array(data=[0.06],\n",
       "              mask=[False],\n",
       "        fill_value='?',\n",
       "             dtype=object),\n",
       " 'param_max_depth': masked_array(data=[9],\n",
       "              mask=[False],\n",
       "        fill_value='?',\n",
       "             dtype=object),\n",
       " 'param_n_estimators': masked_array(data=[114],\n",
       "              mask=[False],\n",
       "        fill_value='?',\n",
       "             dtype=object),\n",
       " 'params': [{'learning_rate': 0.06, 'max_depth': 9, 'n_estimators': 114}],\n",
       " 'split0_test_score': array([-9.08800173]),\n",
       " 'split1_test_score': array([-1.31531187]),\n",
       " 'split2_test_score': array([-0.63844329]),\n",
       " 'mean_test_score': array([-3.68058563]),\n",
       " 'std_test_score': array([3.83359269]),\n",
       " 'rank_test_score': array([1], dtype=int32),\n",
       " 'split0_train_score': array([-2.78081315]),\n",
       " 'split1_train_score': array([-2.90493827]),\n",
       " 'split2_train_score': array([-2.92377565]),\n",
       " 'mean_train_score': array([-2.86984236]),\n",
       " 'std_train_score': array([0.06342114])}"
      ]
     },
     "execution_count": 76,
     "metadata": {},
     "output_type": "execute_result"
    }
   ],
   "source": [
    "gridsearch.cv_results_"
   ]
  },
  {
   "cell_type": "code",
   "execution_count": 77,
   "id": "846b0c8f",
   "metadata": {},
   "outputs": [
    {
     "data": {
      "text/plain": [
       "-3.680585629956051"
      ]
     },
     "execution_count": 77,
     "metadata": {},
     "output_type": "execute_result"
    }
   ],
   "source": [
    "gridsearch.best_score_"
   ]
  },
  {
   "cell_type": "code",
   "execution_count": 78,
   "id": "1e45badc",
   "metadata": {},
   "outputs": [
    {
     "data": {
      "text/html": [
       "<style>#sk-container-id-7 {color: black;background-color: white;}#sk-container-id-7 pre{padding: 0;}#sk-container-id-7 div.sk-toggleable {background-color: white;}#sk-container-id-7 label.sk-toggleable__label {cursor: pointer;display: block;width: 100%;margin-bottom: 0;padding: 0.3em;box-sizing: border-box;text-align: center;}#sk-container-id-7 label.sk-toggleable__label-arrow:before {content: \"▸\";float: left;margin-right: 0.25em;color: #696969;}#sk-container-id-7 label.sk-toggleable__label-arrow:hover:before {color: black;}#sk-container-id-7 div.sk-estimator:hover label.sk-toggleable__label-arrow:before {color: black;}#sk-container-id-7 div.sk-toggleable__content {max-height: 0;max-width: 0;overflow: hidden;text-align: left;background-color: #f0f8ff;}#sk-container-id-7 div.sk-toggleable__content pre {margin: 0.2em;color: black;border-radius: 0.25em;background-color: #f0f8ff;}#sk-container-id-7 input.sk-toggleable__control:checked~div.sk-toggleable__content {max-height: 200px;max-width: 100%;overflow: auto;}#sk-container-id-7 input.sk-toggleable__control:checked~label.sk-toggleable__label-arrow:before {content: \"▾\";}#sk-container-id-7 div.sk-estimator input.sk-toggleable__control:checked~label.sk-toggleable__label {background-color: #d4ebff;}#sk-container-id-7 div.sk-label input.sk-toggleable__control:checked~label.sk-toggleable__label {background-color: #d4ebff;}#sk-container-id-7 input.sk-hidden--visually {border: 0;clip: rect(1px 1px 1px 1px);clip: rect(1px, 1px, 1px, 1px);height: 1px;margin: -1px;overflow: hidden;padding: 0;position: absolute;width: 1px;}#sk-container-id-7 div.sk-estimator {font-family: monospace;background-color: #f0f8ff;border: 1px dotted black;border-radius: 0.25em;box-sizing: border-box;margin-bottom: 0.5em;}#sk-container-id-7 div.sk-estimator:hover {background-color: #d4ebff;}#sk-container-id-7 div.sk-parallel-item::after {content: \"\";width: 100%;border-bottom: 1px solid gray;flex-grow: 1;}#sk-container-id-7 div.sk-label:hover label.sk-toggleable__label {background-color: #d4ebff;}#sk-container-id-7 div.sk-serial::before {content: \"\";position: absolute;border-left: 1px solid gray;box-sizing: border-box;top: 0;bottom: 0;left: 50%;z-index: 0;}#sk-container-id-7 div.sk-serial {display: flex;flex-direction: column;align-items: center;background-color: white;padding-right: 0.2em;padding-left: 0.2em;position: relative;}#sk-container-id-7 div.sk-item {position: relative;z-index: 1;}#sk-container-id-7 div.sk-parallel {display: flex;align-items: stretch;justify-content: center;background-color: white;position: relative;}#sk-container-id-7 div.sk-item::before, #sk-container-id-7 div.sk-parallel-item::before {content: \"\";position: absolute;border-left: 1px solid gray;box-sizing: border-box;top: 0;bottom: 0;left: 50%;z-index: -1;}#sk-container-id-7 div.sk-parallel-item {display: flex;flex-direction: column;z-index: 1;position: relative;background-color: white;}#sk-container-id-7 div.sk-parallel-item:first-child::after {align-self: flex-end;width: 50%;}#sk-container-id-7 div.sk-parallel-item:last-child::after {align-self: flex-start;width: 50%;}#sk-container-id-7 div.sk-parallel-item:only-child::after {width: 0;}#sk-container-id-7 div.sk-dashed-wrapped {border: 1px dashed gray;margin: 0 0.4em 0.5em 0.4em;box-sizing: border-box;padding-bottom: 0.4em;background-color: white;}#sk-container-id-7 div.sk-label label {font-family: monospace;font-weight: bold;display: inline-block;line-height: 1.2em;}#sk-container-id-7 div.sk-label-container {text-align: center;}#sk-container-id-7 div.sk-container {/* jupyter's `normalize.less` sets `[hidden] { display: none; }` but bootstrap.min.css set `[hidden] { display: none !important; }` so we also need the `!important` here to be able to override the default hidden behavior on the sphinx rendered scikit-learn.org. See: https://github.com/scikit-learn/scikit-learn/issues/21755 */display: inline-block !important;position: relative;}#sk-container-id-7 div.sk-text-repr-fallback {display: none;}</style><div id=\"sk-container-id-7\" class=\"sk-top-container\"><div class=\"sk-text-repr-fallback\"><pre>XGBRegressor(base_score=None, booster=None, callbacks=None,\n",
       "             colsample_bylevel=None, colsample_bynode=None,\n",
       "             colsample_bytree=0.8, device=None, early_stopping_rounds=None,\n",
       "             enable_categorical=True, eval_metric=&#x27;mae&#x27;, feature_types=None,\n",
       "             gamma=0.3, grow_policy=None, importance_type=None,\n",
       "             interaction_constraints=None, learning_rate=0.06, max_bin=None,\n",
       "             max_cat_threshold=None, max_cat_to_onehot=None,\n",
       "             max_delta_step=None, max_depth=8, max_leaves=None,\n",
       "             min_child_weight=1, missing=nan, monotone_constraints=None,\n",
       "             multi_strategy=None, n_estimators=119, n_jobs=None,\n",
       "             num_parallel_tree=None, random_state=0, ...)</pre><b>In a Jupyter environment, please rerun this cell to show the HTML representation or trust the notebook. <br />On GitHub, the HTML representation is unable to render, please try loading this page with nbviewer.org.</b></div><div class=\"sk-container\" hidden><div class=\"sk-item\"><div class=\"sk-estimator sk-toggleable\"><input class=\"sk-toggleable__control sk-hidden--visually\" id=\"sk-estimator-id-7\" type=\"checkbox\" checked><label for=\"sk-estimator-id-7\" class=\"sk-toggleable__label sk-toggleable__label-arrow\">XGBRegressor</label><div class=\"sk-toggleable__content\"><pre>XGBRegressor(base_score=None, booster=None, callbacks=None,\n",
       "             colsample_bylevel=None, colsample_bynode=None,\n",
       "             colsample_bytree=0.8, device=None, early_stopping_rounds=None,\n",
       "             enable_categorical=True, eval_metric=&#x27;mae&#x27;, feature_types=None,\n",
       "             gamma=0.3, grow_policy=None, importance_type=None,\n",
       "             interaction_constraints=None, learning_rate=0.06, max_bin=None,\n",
       "             max_cat_threshold=None, max_cat_to_onehot=None,\n",
       "             max_delta_step=None, max_depth=8, max_leaves=None,\n",
       "             min_child_weight=1, missing=nan, monotone_constraints=None,\n",
       "             multi_strategy=None, n_estimators=119, n_jobs=None,\n",
       "             num_parallel_tree=None, random_state=0, ...)</pre></div></div></div></div></div>"
      ],
      "text/plain": [
       "XGBRegressor(base_score=None, booster=None, callbacks=None,\n",
       "             colsample_bylevel=None, colsample_bynode=None,\n",
       "             colsample_bytree=0.8, device=None, early_stopping_rounds=None,\n",
       "             enable_categorical=True, eval_metric='mae', feature_types=None,\n",
       "             gamma=0.3, grow_policy=None, importance_type=None,\n",
       "             interaction_constraints=None, learning_rate=0.06, max_bin=None,\n",
       "             max_cat_threshold=None, max_cat_to_onehot=None,\n",
       "             max_delta_step=None, max_depth=8, max_leaves=None,\n",
       "             min_child_weight=1, missing=nan, monotone_constraints=None,\n",
       "             multi_strategy=None, n_estimators=119, n_jobs=None,\n",
       "             num_parallel_tree=None, random_state=0, ...)"
      ]
     },
     "execution_count": 78,
     "metadata": {},
     "output_type": "execute_result"
    }
   ],
   "source": [
    "reg_b = xgb.XGBRegressor(n_estimators=119, learning_rate=0.06, max_depth=8, min_child_weight=1, gamma=0.3, reg_alpha=0.01, reg_lambda=1,\n",
    "                       enable_categorical=True, eval_metric=\"mae\", random_state=0, colsample_bytree=0.8, subsample=0.8)\n",
    "reg_b.fit(X_b, y_b, verbose=True)"
   ]
  },
  {
   "cell_type": "markdown",
   "id": "d7761089",
   "metadata": {},
   "source": [
    "### Model C"
   ]
  },
  {
   "cell_type": "code",
   "execution_count": 79,
   "id": "13c8c2fe",
   "metadata": {},
   "outputs": [
    {
     "data": {
      "text/plain": [
       "((98975, 55), (4612, 55))"
      ]
     },
     "execution_count": 79,
     "metadata": {},
     "output_type": "execute_result"
    }
   ],
   "source": [
    "train_selection_c = C[\"time\"] < \"2023-03-01\"\n",
    "Train_c.shape, Test_c.shape"
   ]
  },
  {
   "cell_type": "code",
   "execution_count": 81,
   "id": "f5bab8a8",
   "metadata": {},
   "outputs": [],
   "source": [
    "X_c = C.drop([\"time\", \"pv_measurement\"], axis=1)\n",
    "y_c = C[\"pv_measurement\"]"
   ]
  },
  {
   "cell_type": "code",
   "execution_count": 82,
   "id": "ac81698f",
   "metadata": {},
   "outputs": [],
   "source": [
    "# Model_data_features.reset_index(inplace=True)\n",
    "train_selection_2 = C[\"time\"] < \"2023-01-01\"\n",
    "test_selection_2 = (C[\"time\"] > \"2023-01-01\") & (C[\"time\"] < \"2023-03-01\")\n",
    "train_selection_3 = C[\"time\"] < \"2022-11-01\"\n",
    "test_selection_3 = (C[\"time\"] > \"2022-11-01\") & (C[\"time\"] < \"2023-01-01\")\n",
    "Train_1_indices = C.reset_index().index[train_selection_c]\n",
    "Test_1_indices = C.reset_index().index[~train_selection_c]\n",
    "Train_2_indices = C.reset_index().index[train_selection_2]\n",
    "Test_2_indices = C.reset_index().index[test_selection_2]\n",
    "Train_3_indices = C.reset_index().index[train_selection_3]\n",
    "Test_3_indices = C.reset_index().index[test_selection_3]"
   ]
  },
  {
   "cell_type": "code",
   "execution_count": 83,
   "id": "b6dc9381",
   "metadata": {},
   "outputs": [],
   "source": [
    "param_grid = {\n",
    "    'n_estimators': [114],\n",
    "    'learning_rate': [0.06],\n",
    "    'max_depth': [9]\n",
    "}"
   ]
  },
  {
   "cell_type": "code",
   "execution_count": 84,
   "id": "31571c07",
   "metadata": {},
   "outputs": [],
   "source": [
    "gridsearch = GridSearchCV(xgb.XGBRegressor(n_estimators=120, learning_rate=0.065, max_depth=11, min_child_weight=1, gamma=0.3, reg_alpha=0.01, reg_lambda=1,\n",
    "                       enable_categorical=True, eval_metric=\"mae\", random_state=0, colsample_bytree=0.8, subsample=0.8), \n",
    "                          param_grid, scoring=\"neg_mean_absolute_error\", \n",
    "                          verbose=2, n_jobs=-1, return_train_score=True, cv=[(Train_1_indices, Test_1_indices), (Train_2_indices, Test_2_indices), (Train_3_indices, Test_3_indices)])"
   ]
  },
  {
   "cell_type": "code",
   "execution_count": 85,
   "id": "b5636069",
   "metadata": {},
   "outputs": [
    {
     "name": "stdout",
     "output_type": "stream",
     "text": [
      "Fitting 3 folds for each of 1 candidates, totalling 3 fits\n",
      "time: 7.185922384262085\n"
     ]
    }
   ],
   "source": [
    "import time\n",
    "start = time.time()\n",
    "gridsearch.fit(X_c, y_c)\n",
    "print(\"time:\", time.time() - start)"
   ]
  },
  {
   "cell_type": "code",
   "execution_count": 86,
   "id": "0c7da2bd",
   "metadata": {},
   "outputs": [
    {
     "data": {
      "text/plain": [
       "{'learning_rate': 0.06, 'max_depth': 9, 'n_estimators': 114}"
      ]
     },
     "execution_count": 86,
     "metadata": {},
     "output_type": "execute_result"
    }
   ],
   "source": [
    "gridsearch.best_params_"
   ]
  },
  {
   "cell_type": "code",
   "execution_count": 87,
   "id": "8f55bbdc",
   "metadata": {},
   "outputs": [
    {
     "data": {
      "text/plain": [
       "{'mean_fit_time': array([4.52992535]),\n",
       " 'std_fit_time': array([0.06941905]),\n",
       " 'mean_score_time': array([0.01849961]),\n",
       " 'std_score_time': array([0.00194879]),\n",
       " 'param_learning_rate': masked_array(data=[0.06],\n",
       "              mask=[False],\n",
       "        fill_value='?',\n",
       "             dtype=object),\n",
       " 'param_max_depth': masked_array(data=[9],\n",
       "              mask=[False],\n",
       "        fill_value='?',\n",
       "             dtype=object),\n",
       " 'param_n_estimators': masked_array(data=[114],\n",
       "              mask=[False],\n",
       "        fill_value='?',\n",
       "             dtype=object),\n",
       " 'params': [{'learning_rate': 0.06, 'max_depth': 9, 'n_estimators': 114}],\n",
       " 'split0_test_score': array([-11.47863507]),\n",
       " 'split1_test_score': array([-1.56188937]),\n",
       " 'split2_test_score': array([-0.8774979]),\n",
       " 'mean_test_score': array([-4.63934078]),\n",
       " 'std_test_score': array([4.84417572]),\n",
       " 'rank_test_score': array([1], dtype=int32),\n",
       " 'split0_train_score': array([-2.38738764]),\n",
       " 'split1_train_score': array([-2.46797993]),\n",
       " 'split2_train_score': array([-2.51757978]),\n",
       " 'mean_train_score': array([-2.45764912]),\n",
       " 'std_train_score': array([0.05365037])}"
      ]
     },
     "execution_count": 87,
     "metadata": {},
     "output_type": "execute_result"
    }
   ],
   "source": [
    "gridsearch.cv_results_"
   ]
  },
  {
   "cell_type": "code",
   "execution_count": 88,
   "id": "bcadf16e",
   "metadata": {},
   "outputs": [
    {
     "data": {
      "text/plain": [
       "-4.639340780799683"
      ]
     },
     "execution_count": 88,
     "metadata": {},
     "output_type": "execute_result"
    }
   ],
   "source": [
    "gridsearch.best_score_"
   ]
  },
  {
   "cell_type": "code",
   "execution_count": 89,
   "id": "68e90557",
   "metadata": {},
   "outputs": [
    {
     "data": {
      "text/html": [
       "<style>#sk-container-id-8 {color: black;background-color: white;}#sk-container-id-8 pre{padding: 0;}#sk-container-id-8 div.sk-toggleable {background-color: white;}#sk-container-id-8 label.sk-toggleable__label {cursor: pointer;display: block;width: 100%;margin-bottom: 0;padding: 0.3em;box-sizing: border-box;text-align: center;}#sk-container-id-8 label.sk-toggleable__label-arrow:before {content: \"▸\";float: left;margin-right: 0.25em;color: #696969;}#sk-container-id-8 label.sk-toggleable__label-arrow:hover:before {color: black;}#sk-container-id-8 div.sk-estimator:hover label.sk-toggleable__label-arrow:before {color: black;}#sk-container-id-8 div.sk-toggleable__content {max-height: 0;max-width: 0;overflow: hidden;text-align: left;background-color: #f0f8ff;}#sk-container-id-8 div.sk-toggleable__content pre {margin: 0.2em;color: black;border-radius: 0.25em;background-color: #f0f8ff;}#sk-container-id-8 input.sk-toggleable__control:checked~div.sk-toggleable__content {max-height: 200px;max-width: 100%;overflow: auto;}#sk-container-id-8 input.sk-toggleable__control:checked~label.sk-toggleable__label-arrow:before {content: \"▾\";}#sk-container-id-8 div.sk-estimator input.sk-toggleable__control:checked~label.sk-toggleable__label {background-color: #d4ebff;}#sk-container-id-8 div.sk-label input.sk-toggleable__control:checked~label.sk-toggleable__label {background-color: #d4ebff;}#sk-container-id-8 input.sk-hidden--visually {border: 0;clip: rect(1px 1px 1px 1px);clip: rect(1px, 1px, 1px, 1px);height: 1px;margin: -1px;overflow: hidden;padding: 0;position: absolute;width: 1px;}#sk-container-id-8 div.sk-estimator {font-family: monospace;background-color: #f0f8ff;border: 1px dotted black;border-radius: 0.25em;box-sizing: border-box;margin-bottom: 0.5em;}#sk-container-id-8 div.sk-estimator:hover {background-color: #d4ebff;}#sk-container-id-8 div.sk-parallel-item::after {content: \"\";width: 100%;border-bottom: 1px solid gray;flex-grow: 1;}#sk-container-id-8 div.sk-label:hover label.sk-toggleable__label {background-color: #d4ebff;}#sk-container-id-8 div.sk-serial::before {content: \"\";position: absolute;border-left: 1px solid gray;box-sizing: border-box;top: 0;bottom: 0;left: 50%;z-index: 0;}#sk-container-id-8 div.sk-serial {display: flex;flex-direction: column;align-items: center;background-color: white;padding-right: 0.2em;padding-left: 0.2em;position: relative;}#sk-container-id-8 div.sk-item {position: relative;z-index: 1;}#sk-container-id-8 div.sk-parallel {display: flex;align-items: stretch;justify-content: center;background-color: white;position: relative;}#sk-container-id-8 div.sk-item::before, #sk-container-id-8 div.sk-parallel-item::before {content: \"\";position: absolute;border-left: 1px solid gray;box-sizing: border-box;top: 0;bottom: 0;left: 50%;z-index: -1;}#sk-container-id-8 div.sk-parallel-item {display: flex;flex-direction: column;z-index: 1;position: relative;background-color: white;}#sk-container-id-8 div.sk-parallel-item:first-child::after {align-self: flex-end;width: 50%;}#sk-container-id-8 div.sk-parallel-item:last-child::after {align-self: flex-start;width: 50%;}#sk-container-id-8 div.sk-parallel-item:only-child::after {width: 0;}#sk-container-id-8 div.sk-dashed-wrapped {border: 1px dashed gray;margin: 0 0.4em 0.5em 0.4em;box-sizing: border-box;padding-bottom: 0.4em;background-color: white;}#sk-container-id-8 div.sk-label label {font-family: monospace;font-weight: bold;display: inline-block;line-height: 1.2em;}#sk-container-id-8 div.sk-label-container {text-align: center;}#sk-container-id-8 div.sk-container {/* jupyter's `normalize.less` sets `[hidden] { display: none; }` but bootstrap.min.css set `[hidden] { display: none !important; }` so we also need the `!important` here to be able to override the default hidden behavior on the sphinx rendered scikit-learn.org. See: https://github.com/scikit-learn/scikit-learn/issues/21755 */display: inline-block !important;position: relative;}#sk-container-id-8 div.sk-text-repr-fallback {display: none;}</style><div id=\"sk-container-id-8\" class=\"sk-top-container\"><div class=\"sk-text-repr-fallback\"><pre>XGBRegressor(base_score=None, booster=None, callbacks=None,\n",
       "             colsample_bylevel=None, colsample_bynode=None,\n",
       "             colsample_bytree=0.8, device=None, early_stopping_rounds=None,\n",
       "             enable_categorical=True, eval_metric=&#x27;mae&#x27;, feature_types=None,\n",
       "             gamma=0.3, grow_policy=None, importance_type=None,\n",
       "             interaction_constraints=None, learning_rate=0.06, max_bin=None,\n",
       "             max_cat_threshold=None, max_cat_to_onehot=None,\n",
       "             max_delta_step=None, max_depth=7, max_leaves=None,\n",
       "             min_child_weight=1, missing=nan, monotone_constraints=None,\n",
       "             multi_strategy=None, n_estimators=112, n_jobs=None,\n",
       "             num_parallel_tree=None, random_state=0, ...)</pre><b>In a Jupyter environment, please rerun this cell to show the HTML representation or trust the notebook. <br />On GitHub, the HTML representation is unable to render, please try loading this page with nbviewer.org.</b></div><div class=\"sk-container\" hidden><div class=\"sk-item\"><div class=\"sk-estimator sk-toggleable\"><input class=\"sk-toggleable__control sk-hidden--visually\" id=\"sk-estimator-id-8\" type=\"checkbox\" checked><label for=\"sk-estimator-id-8\" class=\"sk-toggleable__label sk-toggleable__label-arrow\">XGBRegressor</label><div class=\"sk-toggleable__content\"><pre>XGBRegressor(base_score=None, booster=None, callbacks=None,\n",
       "             colsample_bylevel=None, colsample_bynode=None,\n",
       "             colsample_bytree=0.8, device=None, early_stopping_rounds=None,\n",
       "             enable_categorical=True, eval_metric=&#x27;mae&#x27;, feature_types=None,\n",
       "             gamma=0.3, grow_policy=None, importance_type=None,\n",
       "             interaction_constraints=None, learning_rate=0.06, max_bin=None,\n",
       "             max_cat_threshold=None, max_cat_to_onehot=None,\n",
       "             max_delta_step=None, max_depth=7, max_leaves=None,\n",
       "             min_child_weight=1, missing=nan, monotone_constraints=None,\n",
       "             multi_strategy=None, n_estimators=112, n_jobs=None,\n",
       "             num_parallel_tree=None, random_state=0, ...)</pre></div></div></div></div></div>"
      ],
      "text/plain": [
       "XGBRegressor(base_score=None, booster=None, callbacks=None,\n",
       "             colsample_bylevel=None, colsample_bynode=None,\n",
       "             colsample_bytree=0.8, device=None, early_stopping_rounds=None,\n",
       "             enable_categorical=True, eval_metric='mae', feature_types=None,\n",
       "             gamma=0.3, grow_policy=None, importance_type=None,\n",
       "             interaction_constraints=None, learning_rate=0.06, max_bin=None,\n",
       "             max_cat_threshold=None, max_cat_to_onehot=None,\n",
       "             max_delta_step=None, max_depth=7, max_leaves=None,\n",
       "             min_child_weight=1, missing=nan, monotone_constraints=None,\n",
       "             multi_strategy=None, n_estimators=112, n_jobs=None,\n",
       "             num_parallel_tree=None, random_state=0, ...)"
      ]
     },
     "execution_count": 89,
     "metadata": {},
     "output_type": "execute_result"
    }
   ],
   "source": [
    "reg_c = xgb.XGBRegressor(n_estimators=112, learning_rate=0.06, max_depth=7, min_child_weight=1, gamma=0.3, reg_alpha=0.01, reg_lambda=1,\n",
    "                       enable_categorical=True, eval_metric=\"mae\", random_state=0, colsample_bytree=0.8, subsample=0.8)\n",
    "reg_c.fit(X_c, y_c, verbose=True)"
   ]
  },
  {
   "cell_type": "markdown",
   "id": "11d73050",
   "metadata": {},
   "source": [
    "### Prediction"
   ]
  },
  {
   "cell_type": "code",
   "execution_count": 90,
   "id": "c110288d",
   "metadata": {},
   "outputs": [],
   "source": [
    "X_test_estimated_a[\"location\"] = \"A\"\n",
    "X_test_estimated_b[\"location\"] = \"B\"\n",
    "X_test_estimated_c[\"location\"] = \"C\""
   ]
  },
  {
   "cell_type": "code",
   "execution_count": 91,
   "id": "bf5f46ba",
   "metadata": {},
   "outputs": [],
   "source": [
    "Test_X_a = feature_selection(feature_engineering(X_test_estimated_a))\n",
    "Test_X_b = feature_selection(feature_engineering(X_test_estimated_b))\n",
    "Test_X_c = feature_selection(feature_engineering(X_test_estimated_c))"
   ]
  },
  {
   "cell_type": "code",
   "execution_count": 92,
   "id": "77c4c438",
   "metadata": {},
   "outputs": [],
   "source": [
    "y_pred_a = reg_a.predict(Test_X_a)\n",
    "y_pred_b = reg_b.predict(Test_X_b)\n",
    "y_pred_c = reg_c.predict(Test_X_c)"
   ]
  },
  {
   "cell_type": "code",
   "execution_count": 93,
   "id": "68443151",
   "metadata": {},
   "outputs": [],
   "source": [
    "y_pred_a[(Test_X_a[\"is_day:idx\"] == 0)] = 0\n",
    "y_pred_b[(Test_X_b[\"is_day:idx\"] == 0)] = 0\n",
    "y_pred_c[(Test_X_c[\"is_day:idx\"] == 0)] = 0"
   ]
  },
  {
   "cell_type": "code",
   "execution_count": 94,
   "id": "6708be80",
   "metadata": {},
   "outputs": [],
   "source": [
    "y_pred = np.concatenate([y_pred_a, y_pred_b, y_pred_c])"
   ]
  },
  {
   "cell_type": "code",
   "execution_count": 95,
   "id": "509071fb",
   "metadata": {},
   "outputs": [
    {
     "data": {
      "text/plain": [
       "array([   0.      ,    0.      ,    0.      ,   53.68991 ,  364.0292  ,\n",
       "        991.60925 , 2008.198   , 2531.7986  , 2587.5217  , 2710.782   ,\n",
       "       2940.7344  , 3040.8008  , 2757.8179  , 2533.2622  , 2364.9495  ,\n",
       "       1669.5106  , 1080.4099  ,  622.8436  ,  221.38722 ,   15.455173],\n",
       "      dtype=float32)"
      ]
     },
     "execution_count": 95,
     "metadata": {},
     "output_type": "execute_result"
    }
   ],
   "source": [
    "y_pred = (y_pred[::4] + y_pred[1::4] + y_pred[2::4] + y_pred[3::4])\n",
    "y_pred[:20]"
   ]
  },
  {
   "cell_type": "code",
   "execution_count": 56,
   "id": "cb15f1f1",
   "metadata": {},
   "outputs": [],
   "source": [
    "threshold = 0.05"
   ]
  },
  {
   "cell_type": "code",
   "execution_count": 98,
   "id": "a69eddbd",
   "metadata": {},
   "outputs": [
    {
     "name": "stdout",
     "output_type": "stream",
     "text": [
      "0         0.000000\n",
      "1         0.000000\n",
      "2         0.000000\n",
      "3        53.689911\n",
      "4       364.029205\n",
      "           ...    \n",
      "2155     82.937698\n",
      "2156     62.373196\n",
      "2157      7.236816\n",
      "2158      0.000000\n",
      "2159      0.000000\n",
      "Name: prediction, Length: 2160, dtype: float64\n",
      "[CV] END ..learning_rate=0.06, max_depth=9, n_estimators=114; total time=   4.5s\n",
      "[CV] END ..learning_rate=0.06, max_depth=9, n_estimators=114; total time=   4.5s\n",
      "[CV] END ..learning_rate=0.06, max_depth=9, n_estimators=114; total time=   4.6s\n",
      "[CV] END ..learning_rate=0.06, max_depth=8, n_estimators=119; total time=   3.9s\n",
      "[CV] END ..learning_rate=0.06, max_depth=8, n_estimators=119; total time=   4.0s\n",
      "[CV] END ..learning_rate=0.06, max_depth=8, n_estimators=119; total time=   4.1s\n",
      "[CV] END ..learning_rate=0.06, max_depth=8, n_estimators=119; total time=   4.8s\n",
      "[CV] END ..learning_rate=0.06, max_depth=9, n_estimators=114; total time=   4.8s\n",
      "[CV] END ..learning_rate=0.06, max_depth=8, n_estimators=119; total time=   4.6s\n",
      "[CV] END ..learning_rate=0.06, max_depth=9, n_estimators=114; total time=   4.8s\n",
      "[CV] END ..learning_rate=0.06, max_depth=8, n_estimators=119; total time=   4.3s\n",
      "[CV] END ..learning_rate=0.06, max_depth=9, n_estimators=114; total time=   4.9s\n",
      "[CV] END ..learning_rate=0.06, max_depth=9, n_estimators=114; total time=   5.0s\n",
      "[CV] END ..learning_rate=0.06, max_depth=9, n_estimators=114; total time=   4.5s\n",
      "[CV] END ..learning_rate=0.06, max_depth=9, n_estimators=114; total time=   4.8s\n",
      "[CV] END ..learning_rate=0.06, max_depth=9, n_estimators=114; total time=   4.5s\n",
      "[CV] END ..learning_rate=0.06, max_depth=9, n_estimators=114; total time=   4.8s\n",
      "[CV] END ..learning_rate=0.06, max_depth=9, n_estimators=114; total time=   4.6s\n"
     ]
    }
   ],
   "source": [
    "result_df = pd.DataFrame(y_pred, columns=[\"prediction\"])\n",
    "result_df[\"prediction\"] = result_df[\"prediction\"].apply(lambda x:0 if x < threshold else x)\n",
    "print(result_df[\"prediction\"])\n",
    "result_df.to_csv(\"short_notebook_1.csv\", index=True, index_label=\"id\")"
   ]
  },
  {
   "cell_type": "code",
   "execution_count": null,
   "id": "c9ea43a1",
   "metadata": {},
   "outputs": [],
   "source": []
  }
 ],
 "metadata": {
  "kernelspec": {
   "display_name": "Python 3 (ipykernel)",
   "language": "python",
   "name": "python3"
  },
  "language_info": {
   "codemirror_mode": {
    "name": "ipython",
    "version": 3
   },
   "file_extension": ".py",
   "mimetype": "text/x-python",
   "name": "python",
   "nbconvert_exporter": "python",
   "pygments_lexer": "ipython3",
   "version": "3.9.16"
  }
 },
 "nbformat": 4,
 "nbformat_minor": 5
}
